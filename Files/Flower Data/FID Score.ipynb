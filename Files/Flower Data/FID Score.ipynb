{
 "cells": [
  {
   "cell_type": "markdown",
   "id": "hawaiian-cheese",
   "metadata": {},
   "source": [
    "# Load Libraries"
   ]
  },
  {
   "cell_type": "code",
   "execution_count": 15,
   "id": "southeast-array",
   "metadata": {},
   "outputs": [],
   "source": [
    "import tensorflow\n",
    "import os,sys\n",
    "import numpy\n",
    "from numpy import cov\n",
    "from numpy import trace\n",
    "from numpy import iscomplexobj\n",
    "from numpy import asarray\n",
    "from numpy.random import shuffle\n",
    "from scipy.linalg import sqrtm\n",
    "from keras.applications.inception_v3 import InceptionV3\n",
    "from keras.applications.inception_v3 import preprocess_input\n",
    "from keras.datasets.mnist import load_data\n",
    "from skimage.transform import resize\n",
    "from keras.datasets import cifar10\n",
    "\n",
    "import numpy as np\n",
    "import random\n",
    "\n",
    "\n",
    "import tensorflow as tf\n",
    "random.seed(1)\n",
    "np.random.seed(1)\n",
    "tf.random.set_seed(2)\n",
    "\n",
    "from numpy import *\n",
    "from numpy.random import *"
   ]
  },
  {
   "cell_type": "code",
   "execution_count": 16,
   "id": "crucial-thesis",
   "metadata": {},
   "outputs": [
    {
     "name": "stdout",
     "output_type": "stream",
     "text": [
      "['.ipynb_checkpoints', 'FID Score.ipynb', 'set_3000.npz', 'set_6000.npz', 'set_9000.npz']\n"
     ]
    }
   ],
   "source": [
    "import os\n",
    "os.getcwd()\n",
    "print(os.listdir())"
   ]
  },
  {
   "cell_type": "code",
   "execution_count": 17,
   "id": "4f3ece69",
   "metadata": {},
   "outputs": [],
   "source": [
    "ab1= np.load(\"set_3000.npz\",allow_pickle=True)\n",
    "a1,b1=ab1['a'],ab1['b']\n",
    "\n",
    "ab2= np.load(\"set_6000.npz\",allow_pickle=True)\n",
    "a2,b2=ab2['a'],ab2['b']\n",
    "\n",
    "ab3= np.load(\"set_9000.npz\",allow_pickle=True)\n",
    "a3,b3=ab3['a'],ab3['b']"
   ]
  },
  {
   "cell_type": "code",
   "execution_count": 24,
   "id": "474dd89e",
   "metadata": {},
   "outputs": [
    {
     "name": "stdout",
     "output_type": "stream",
     "text": [
      "(2189, 2048) (2189, 2048)\n"
     ]
    }
   ],
   "source": [
    "print(a3.shape,np.array(b3[:2189]).shape)"
   ]
  },
  {
   "cell_type": "code",
   "execution_count": 25,
   "id": "04b737e6",
   "metadata": {},
   "outputs": [],
   "source": [
    "images1 = []\n",
    "for i in a1:\n",
    "    images1.append(i)\n",
    "for i in a2:\n",
    "    images1.append(i)\n",
    "for i in a3:\n",
    "    images1.append(i)\n",
    "images1 = np.array(images1)\n",
    "\n",
    "images2 = []\n",
    "for i in b1:\n",
    "    images2.append(i)\n",
    "for i in b2:\n",
    "    images2.append(i)\n",
    "for i in b3[:2189]:\n",
    "    images2.append(i)\n",
    "images2 = np.array(images2)"
   ]
  },
  {
   "cell_type": "code",
   "execution_count": 26,
   "id": "c3097725",
   "metadata": {},
   "outputs": [
    {
     "name": "stdout",
     "output_type": "stream",
     "text": [
      "(8189, 2048)\n",
      "(8189, 2048)\n"
     ]
    }
   ],
   "source": [
    "print(images1.shape)\n",
    "print(images2.shape)"
   ]
  },
  {
   "cell_type": "markdown",
   "id": "criminal-shark",
   "metadata": {},
   "source": [
    "# FID Score Function "
   ]
  },
  {
   "cell_type": "code",
   "execution_count": 27,
   "id": "destroyed-arabic",
   "metadata": {},
   "outputs": [],
   "source": [
    "# calculate frechet inception distance\n",
    "def calculate_fid(images1, images2):\n",
    "    # calculate activations\n",
    "    act1 = images1\n",
    "    act2 = images2\n",
    "    # calculate mean and covariance statistics\n",
    "    mu1, sigma1 = act1.mean(axis=0), cov(act1, rowvar=False)\n",
    "    mu2, sigma2 = act2.mean(axis=0), cov(act2, rowvar=False)\n",
    "    # calculate sum squared difference between means\n",
    "    ssdiff = numpy.sum((mu1 - mu2)**2.0)\n",
    "    # calculate sqrt of product between cov\n",
    "    covmean = sqrtm(sigma1.dot(sigma2))\n",
    "    # check and correct imaginary numbers from sqrt\n",
    "    if iscomplexobj(covmean):\n",
    "        covmean = covmean.real\n",
    "    # calculate score\n",
    "    fid = ssdiff + trace(sigma1 + sigma2 - 2.0 * covmean)\n",
    "    return fid"
   ]
  },
  {
   "cell_type": "markdown",
   "id": "described-mentor",
   "metadata": {},
   "source": [
    "# Calculate FID Score"
   ]
  },
  {
   "cell_type": "code",
   "execution_count": 28,
   "id": "hungarian-laugh",
   "metadata": {},
   "outputs": [],
   "source": [
    "# calculate fid\n",
    "fid = calculate_fid(images1, images2)\n",
    "# print('FID: %.3f' % fid)"
   ]
  },
  {
   "cell_type": "code",
   "execution_count": 29,
   "id": "rubber-darwin",
   "metadata": {},
   "outputs": [
    {
     "name": "stdout",
     "output_type": "stream",
     "text": [
      "FID Score: 0.504379\n"
     ]
    }
   ],
   "source": [
    "print('FID Score: %.6f' % fid)"
   ]
  },
  {
   "cell_type": "code",
   "execution_count": null,
   "id": "empirical-announcement",
   "metadata": {},
   "outputs": [],
   "source": []
  },
  {
   "cell_type": "code",
   "execution_count": null,
   "id": "therapeutic-confidence",
   "metadata": {},
   "outputs": [],
   "source": []
  }
 ],
 "metadata": {
  "kernelspec": {
   "display_name": "Python 3 (ipykernel)",
   "language": "python",
   "name": "python3"
  },
  "language_info": {
   "codemirror_mode": {
    "name": "ipython",
    "version": 3
   },
   "file_extension": ".py",
   "mimetype": "text/x-python",
   "name": "python",
   "nbconvert_exporter": "python",
   "pygments_lexer": "ipython3",
   "version": "3.9.12"
  }
 },
 "nbformat": 4,
 "nbformat_minor": 5
}
